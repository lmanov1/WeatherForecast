{
 "cells": [
  {
   "cell_type": "code",
   "execution_count": null,
   "metadata": {
    "vscode": {
     "languageId": "markdown"
    }
   },
   "outputs": [],
   "source": [
    "# This notebook will allow you to enter a city of your choice from anywhere in the world and receive the current weather details for that location."
   ]
  },
  {
   "cell_type": "code",
   "execution_count": null,
   "metadata": {
    "vscode": {
     "languageId": "markdown"
    }
   },
   "outputs": [
    {
     "name": "stderr",
     "output_type": "stream",
     "text": [
      "7310.92s - pydevd: Sending message related to process being replaced timed-out after 5 seconds\n"
     ]
    },
    {
     "name": "stdout",
     "output_type": "stream",
     "text": [
      "Requirement already satisfied: requests in /home/lmanov/.local/lib/python3.10/site-packages (2.31.0)\n",
      "Requirement already satisfied: charset-normalizer<4,>=2 in /home/lmanov/.local/lib/python3.10/site-packages (from requests) (3.3.2)\n",
      "Requirement already satisfied: certifi>=2017.4.17 in /home/lmanov/.local/lib/python3.10/site-packages (from requests) (2024.2.2)\n",
      "Requirement already satisfied: urllib3<3,>=1.21.1 in /home/lmanov/.local/lib/python3.10/site-packages (from requests) (2.2.0)\n",
      "Requirement already satisfied: idna<4,>=2.5 in /home/lmanov/.local/lib/python3.10/site-packages (from requests) (3.6)\n"
     ]
    }
   ],
   "source": [
    "!pip install --user requests\n"
   ]
  },
  {
   "cell_type": "code",
   "execution_count": null,
   "metadata": {},
   "outputs": [
    {
     "name": "stdout",
     "output_type": "stream",
     "text": [
      "Weather forecast for London:\n",
      "Clouds\n",
      "overcast clouds\n",
      "\n",
      "temp - 18.25\n",
      "feels_like - 17.49\n",
      "temp_min - 16.49\n",
      "temp_max - 19.45\n",
      "pressure - 1019\n",
      "humidity - 52\n",
      "visibility - 10000\n",
      "speed - 1.54\n",
      "deg - 310\n",
      "============================\n"
     ]
    },
    {
     "data": {
      "text/plain": [
       "True"
      ]
     },
     "execution_count": 135,
     "metadata": {},
     "output_type": "execute_result"
    }
   ],
   "source": [
    "# -*- coding: utf-8 -*-\n",
    "api_key='xxxxxxxx'\n",
    "\n",
    "#tz = 'Europe/London'\n",
    "\n",
    "import requests\n",
    "#import json\n",
    "\n",
    "weather_components = [\"weather\", \"main\", \"visibility\", \"wind\",\"rain\"]\n",
    "exclude_list = [\"icon\", \"id\"  ]\n",
    "separator = \"============================\"\n",
    "\n",
    "def recurrent_print_datatype(component , weather_descriptor):\n",
    "        \n",
    "    if isinstance(weather_descriptor, str) or isinstance(weather_descriptor, int):\n",
    "        print(f\"{component} - {weather_descriptor}\")\n",
    "        \n",
    "    elif isinstance(weather_descriptor, list):\n",
    "        for item in weather_descriptor:            \n",
    "            if isinstance(item, dict):\n",
    "                for key, value in item.items():\n",
    "                    if key not in exclude_list:                        \n",
    "                        print(value)\n",
    "                print()\n",
    "            else:\n",
    "                for value in weather_descriptor:\n",
    "                    if value not in exclude_list:\n",
    "                        print(f\"{value}\")\n",
    "                        \n",
    "    elif isinstance(weather_descriptor, dict):\n",
    "        for key, value in weather_descriptor.items():\n",
    "            if key not in exclude_list:\n",
    "                print(f\"{key} - {value}\")        \n",
    "    \n",
    "\n",
    "\n",
    "def is_city(city_name):\n",
    "    print(f\"Weather forecast for {city_name}:\")        \n",
    "    url = f\"http://api.openweathermap.org/data/2.5/weather?q={city_name.lower()}&appid={api_key}&units=metric\"\n",
    "    response = requests.get(url)    \n",
    "    data = response.json()    \n",
    "    if data[\"cod\"] != 200:\n",
    "        print(\"Error: \", data[\"message\"])\n",
    "        return False \n",
    "          \n",
    "    for component in weather_components:\n",
    "        if component in data.keys():            \n",
    "            weather_descriptor = data[component]            \n",
    "            recurrent_print_datatype(component , weather_descriptor)\n",
    "    print(separator)            \n",
    "    return data[\"cod\"] == 200\n",
    "\n",
    "is_city(\"London\")\n",
    "   "
   ]
  },
  {
   "cell_type": "code",
   "execution_count": null,
   "metadata": {},
   "outputs": [
    {
     "name": "stdout",
     "output_type": "stream",
     "text": [
      "Weather forecast for Tokio:\n",
      "Clear - clear sky - \n",
      "temp - 23.18\n",
      "feels_like - 23.12\n",
      "temp_min - 19.3\n",
      "temp_max - 25.31\n",
      "pressure - 1005\n",
      "humidity - 60\n",
      "visibility - 10000\n",
      "speed - 4.12\n",
      "deg - 340\n",
      "============================\n"
     ]
    }
   ],
   "source": [
    "while True:\n",
    "    city = input(\"Enter a city name (or 'exit' to quit): \")\n",
    "    if city.lower() == \"exit\" or city.lower() == \"quit\":\n",
    "        break\n",
    "    else:        \n",
    "        if len(city) == 0:            \n",
    "            print(\"You must enter a city name.\")\n",
    "            continue\n",
    "        elif not is_city(city):\n",
    "            print(\"Information about the city was not found. Please try again.\")\n",
    "            continue    \n",
    "        "
   ]
  }
 ],
 "metadata": {
  "kernelspec": {
   "display_name": "Python 3",
   "language": "python",
   "name": "python3"
  },
  "language_info": {
   "codemirror_mode": {
    "name": "ipython",
    "version": 3
   },
   "file_extension": ".py",
   "mimetype": "text/x-python",
   "name": "python",
   "nbconvert_exporter": "python",
   "pygments_lexer": "ipython3",
   "version": "3.10.12"
  }
 },
 "nbformat": 4,
 "nbformat_minor": 2
}
