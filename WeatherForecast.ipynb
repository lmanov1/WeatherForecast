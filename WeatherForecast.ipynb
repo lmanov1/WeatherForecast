{
 "cells": [
  {
   "cell_type": "code",
   "execution_count": null,
   "metadata": {
    "vscode": {
     "languageId": "markdown"
    }
   },
   "outputs": [],
   "source": [
    "# This notebook will allow you to enter a city of your choice from anywhere in the world and receive the current weather details for that location."
   ]
  },
  {
   "cell_type": "code",
   "execution_count": null,
   "metadata": {
    "vscode": {
     "languageId": "markdown"
    }
   },
   "outputs": [],
   "source": [
    "!pip install --user requests\n"
   ]
  },
  {
   "cell_type": "code",
   "execution_count": null,
   "metadata": {},
   "outputs": [],
   "source": [
    "# -*- coding: utf-8 -*-\n",
    "api_key = '00e9c642575dfb0616fef82397a57a47'\n",
    "#tz = 'Europe/London'\n",
    "\n",
    "import requests\n",
    "#import json\n",
    "\n",
    "weather_components = [\"weather\", \"main\", \"visibility\", \"wind\",\"rain\"]\n",
    "exclude_list = [\"icon\", \"id\"  ]\n",
    "separator = \"============================\"\n",
    "\n",
    "def recurrent_print_datatype(component , weather_descriptor):\n",
    "        \n",
    "    if isinstance(weather_descriptor, str) or isinstance(weather_descriptor, int):\n",
    "        print(f\"{component} - {weather_descriptor}\")\n",
    "        \n",
    "    elif isinstance(weather_descriptor, list):\n",
    "        for item in weather_descriptor:            \n",
    "            if isinstance(item, dict):\n",
    "                for key, value in item.items():\n",
    "                    if key not in exclude_list:\n",
    "                        print(f\"{key} - {value}\")\n",
    "            else:\n",
    "                for value in weather_descriptor:\n",
    "                    if value not in exclude_list:\n",
    "                        print(f\"{value}\")\n",
    "                        \n",
    "    elif isinstance(weather_descriptor, dict):\n",
    "        for key, value in weather_descriptor.items():\n",
    "            if key not in exclude_list:\n",
    "                print(f\"{key} - {value}\")        \n",
    "    \n",
    "\n",
    "\n",
    "def is_city(city_name):\n",
    "    print(\"You entered:\", city_name)        \n",
    "    url = f\"http://api.openweathermap.org/data/2.5/weather?q={city_name.lower()}&appid={api_key}&units=metric\"\n",
    "    response = requests.get(url)    \n",
    "    data = response.json()    \n",
    "    if data[\"cod\"] != 200:\n",
    "        print(\"Error: \", data[\"message\"])\n",
    "        return False \n",
    "          \n",
    "    for component in weather_components:\n",
    "        if component in data.keys():            \n",
    "            weather_descriptor = data[component]            \n",
    "            recurrent_print_datatype(component , weather_descriptor)\n",
    "    print(separator)            \n",
    "    return data[\"cod\"] == 200\n",
    "\n",
    "#is_city(\"London\")\n",
    "   "
   ]
  },
  {
   "cell_type": "code",
   "execution_count": null,
   "metadata": {},
   "outputs": [],
   "source": [
    "while True:\n",
    "    city = input(\"Enter a city name (or 'exit' to quit): \")\n",
    "    if city.lower() == \"exit\" or city.lower() == \"quit\":\n",
    "        break\n",
    "    else:        \n",
    "        if len(city) == 0:            \n",
    "            print(\"You must enter a city name.\")\n",
    "            continue\n",
    "        elif not is_city(city):\n",
    "            print(\"Information about the city was not found. Please try again.\")\n",
    "            continue    \n",
    "        "
   ]
  }
 ],
 "metadata": {
  "kernelspec": {
   "display_name": "Python 3",
   "language": "python",
   "name": "python3"
  },
  "language_info": {
   "codemirror_mode": {
    "name": "ipython",
    "version": 3
   },
   "file_extension": ".py",
   "mimetype": "text/x-python",
   "name": "python",
   "nbconvert_exporter": "python",
   "pygments_lexer": "ipython3",
   "version": "3.10.12"
  }
 },
 "nbformat": 4,
 "nbformat_minor": 2
}
